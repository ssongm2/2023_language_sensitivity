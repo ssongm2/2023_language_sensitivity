{
 "cells": [
  {
   "cell_type": "code",
   "execution_count": 56,
   "id": "3197e0fe",
   "metadata": {},
   "outputs": [],
   "source": [
    "import pandas as pd"
   ]
  },
  {
   "cell_type": "code",
   "execution_count": 80,
   "id": "8381f8ff",
   "metadata": {},
   "outputs": [],
   "source": [
    "#라벨링할 파일 불러오기\n",
    "df = pd.read_excel('/Users/thdal/Desktop/wrong_sentiment_before_new_labeling.xlsx', index_col=0)"
   ]
  },
  {
   "cell_type": "code",
   "execution_count": 81,
   "id": "686e4b86",
   "metadata": {},
   "outputs": [
    {
     "name": "stdout",
     "output_type": "stream",
     "text": [
      "0\n",
      "0\n"
     ]
    }
   ],
   "source": [
    "#sentence가 비어있는 행이 있는지 검사\n",
    "print(sum(df['sentence'].isnull()))\n",
    "\n",
    "#sentence가 비어있는 행 삭제\n",
    "df = df.dropna(subset = ['sentence'], how='any', axis=0)\n",
    "\n",
    "#sentence가 잘 비어졌는지 검사\n",
    "print(sum(df['sentence'].isnull()))\n",
    "\n",
    "#같은 문장 제거하고 인덱스 초기화\n",
    "df = df.drop_duplicates(['sentence'], ignore_index=True)"
   ]
  },
  {
   "cell_type": "code",
   "execution_count": 82,
   "id": "121ed7d7",
   "metadata": {},
   "outputs": [
    {
     "data": {
      "text/html": [
       "<div>\n",
       "<style scoped>\n",
       "    .dataframe tbody tr th:only-of-type {\n",
       "        vertical-align: middle;\n",
       "    }\n",
       "\n",
       "    .dataframe tbody tr th {\n",
       "        vertical-align: top;\n",
       "    }\n",
       "\n",
       "    .dataframe thead th {\n",
       "        text-align: right;\n",
       "    }\n",
       "</style>\n",
       "<table border=\"1\" class=\"dataframe\">\n",
       "  <thead>\n",
       "    <tr style=\"text-align: right;\">\n",
       "      <th></th>\n",
       "      <th>sentence</th>\n",
       "      <th>장애및병력</th>\n",
       "      <th>성과가족</th>\n",
       "      <th>사회적신분</th>\n",
       "      <th>출신</th>\n",
       "      <th>욕설</th>\n",
       "      <th>기타</th>\n",
       "      <th>언어감수성_X</th>\n",
       "      <th>언어감수성_O</th>\n",
       "    </tr>\n",
       "  </thead>\n",
       "  <tbody>\n",
       "    <tr>\n",
       "      <th>0</th>\n",
       "      <td>걍 씨발 레전드면 개추</td>\n",
       "      <td>0</td>\n",
       "      <td>0</td>\n",
       "      <td>0</td>\n",
       "      <td>0.0</td>\n",
       "      <td>1</td>\n",
       "      <td>0</td>\n",
       "      <td>1</td>\n",
       "      <td>0</td>\n",
       "    </tr>\n",
       "    <tr>\n",
       "      <th>1</th>\n",
       "      <td>전역후 개월 정도 되니까 시간이 존나 빨리 가는듯</td>\n",
       "      <td>0</td>\n",
       "      <td>0</td>\n",
       "      <td>0</td>\n",
       "      <td>0.0</td>\n",
       "      <td>1</td>\n",
       "      <td>0</td>\n",
       "      <td>1</td>\n",
       "      <td>0</td>\n",
       "    </tr>\n",
       "    <tr>\n",
       "      <th>2</th>\n",
       "      <td>누나있는 애들 괜히 누나 싫은척 좆됨</td>\n",
       "      <td>0</td>\n",
       "      <td>0</td>\n",
       "      <td>0</td>\n",
       "      <td>0.0</td>\n",
       "      <td>1</td>\n",
       "      <td>0</td>\n",
       "      <td>1</td>\n",
       "      <td>0</td>\n",
       "    </tr>\n",
       "    <tr>\n",
       "      <th>3</th>\n",
       "      <td>이브 프시케 어쩌고 웅앵웅 한남소추의 아내</td>\n",
       "      <td>0</td>\n",
       "      <td>1</td>\n",
       "      <td>0</td>\n",
       "      <td>0.0</td>\n",
       "      <td>0</td>\n",
       "      <td>0</td>\n",
       "      <td>1</td>\n",
       "      <td>0</td>\n",
       "    </tr>\n",
       "    <tr>\n",
       "      <th>4</th>\n",
       "      <td>술 취한 애비가 현관문 발로 차며 고함치는말</td>\n",
       "      <td>0</td>\n",
       "      <td>1</td>\n",
       "      <td>0</td>\n",
       "      <td>0.0</td>\n",
       "      <td>0</td>\n",
       "      <td>0</td>\n",
       "      <td>1</td>\n",
       "      <td>0</td>\n",
       "    </tr>\n",
       "    <tr>\n",
       "      <th>...</th>\n",
       "      <td>...</td>\n",
       "      <td>...</td>\n",
       "      <td>...</td>\n",
       "      <td>...</td>\n",
       "      <td>...</td>\n",
       "      <td>...</td>\n",
       "      <td>...</td>\n",
       "      <td>...</td>\n",
       "      <td>...</td>\n",
       "    </tr>\n",
       "    <tr>\n",
       "      <th>171511</th>\n",
       "      <td>견주와 애완묘는 다문화 가정에서 서로의 차이를 이해하며 더욱 깊은 관계를 형성했다</td>\n",
       "      <td>0</td>\n",
       "      <td>0</td>\n",
       "      <td>0</td>\n",
       "      <td>1.0</td>\n",
       "      <td>0</td>\n",
       "      <td>1</td>\n",
       "      <td>1</td>\n",
       "      <td>0</td>\n",
       "    </tr>\n",
       "    <tr>\n",
       "      <th>171512</th>\n",
       "      <td>노숙자는 촌놈과 협력하여 새로운 삶의 시작을 찾으며, 편견을 넘어 서로를 이해하게 되었다</td>\n",
       "      <td>0</td>\n",
       "      <td>0</td>\n",
       "      <td>0</td>\n",
       "      <td>1.0</td>\n",
       "      <td>0</td>\n",
       "      <td>1</td>\n",
       "      <td>1</td>\n",
       "      <td>0</td>\n",
       "    </tr>\n",
       "    <tr>\n",
       "      <th>171513</th>\n",
       "      <td>비주류의 청소년은 외국인노동자와 손을 잡고 지역 사회의 화합과 이해를 위해 노력했다</td>\n",
       "      <td>0</td>\n",
       "      <td>0</td>\n",
       "      <td>0</td>\n",
       "      <td>1.0</td>\n",
       "      <td>0</td>\n",
       "      <td>1</td>\n",
       "      <td>1</td>\n",
       "      <td>0</td>\n",
       "    </tr>\n",
       "    <tr>\n",
       "      <th>171514</th>\n",
       "      <td>왼쪽의 길을 택한 무지성은 혼혈의 협력을 통해 새로운 지식과 경험을 쌓아 나갔다</td>\n",
       "      <td>0</td>\n",
       "      <td>0</td>\n",
       "      <td>0</td>\n",
       "      <td>1.0</td>\n",
       "      <td>0</td>\n",
       "      <td>1</td>\n",
       "      <td>1</td>\n",
       "      <td>0</td>\n",
       "    </tr>\n",
       "    <tr>\n",
       "      <th>171515</th>\n",
       "      <td>오른쪽을 바라보는 애완동물은 다문화 가정의 일원이 되며, 사랑과 이해의 삶을 살아갔다</td>\n",
       "      <td>0</td>\n",
       "      <td>0</td>\n",
       "      <td>0</td>\n",
       "      <td>1.0</td>\n",
       "      <td>0</td>\n",
       "      <td>1</td>\n",
       "      <td>1</td>\n",
       "      <td>0</td>\n",
       "    </tr>\n",
       "  </tbody>\n",
       "</table>\n",
       "<p>171516 rows × 9 columns</p>\n",
       "</div>"
      ],
      "text/plain": [
       "                                                 sentence  장애및병력  성과가족  사회적신분  \\\n",
       "0                                            걍 씨발 레전드면 개추      0     0      0   \n",
       "1                             전역후 개월 정도 되니까 시간이 존나 빨리 가는듯      0     0      0   \n",
       "2                                    누나있는 애들 괜히 누나 싫은척 좆됨      0     0      0   \n",
       "3                                 이브 프시케 어쩌고 웅앵웅 한남소추의 아내      0     1      0   \n",
       "4                                술 취한 애비가 현관문 발로 차며 고함치는말      0     1      0   \n",
       "...                                                   ...    ...   ...    ...   \n",
       "171511      견주와 애완묘는 다문화 가정에서 서로의 차이를 이해하며 더욱 깊은 관계를 형성했다      0     0      0   \n",
       "171512  노숙자는 촌놈과 협력하여 새로운 삶의 시작을 찾으며, 편견을 넘어 서로를 이해하게 되었다      0     0      0   \n",
       "171513     비주류의 청소년은 외국인노동자와 손을 잡고 지역 사회의 화합과 이해를 위해 노력했다      0     0      0   \n",
       "171514       왼쪽의 길을 택한 무지성은 혼혈의 협력을 통해 새로운 지식과 경험을 쌓아 나갔다      0     0      0   \n",
       "171515    오른쪽을 바라보는 애완동물은 다문화 가정의 일원이 되며, 사랑과 이해의 삶을 살아갔다      0     0      0   \n",
       "\n",
       "         출신  욕설  기타  언어감수성_X  언어감수성_O  \n",
       "0       0.0   1   0        1        0  \n",
       "1       0.0   1   0        1        0  \n",
       "2       0.0   1   0        1        0  \n",
       "3       0.0   0   0        1        0  \n",
       "4       0.0   0   0        1        0  \n",
       "...     ...  ..  ..      ...      ...  \n",
       "171511  1.0   0   1        1        0  \n",
       "171512  1.0   0   1        1        0  \n",
       "171513  1.0   0   1        1        0  \n",
       "171514  1.0   0   1        1        0  \n",
       "171515  1.0   0   1        1        0  \n",
       "\n",
       "[171516 rows x 9 columns]"
      ]
     },
     "execution_count": 82,
     "metadata": {},
     "output_type": "execute_result"
    }
   ],
   "source": [
    "df"
   ]
  },
  {
   "cell_type": "code",
   "execution_count": 83,
   "id": "a27f633c",
   "metadata": {},
   "outputs": [],
   "source": [
    "#최종 라벨링 위해 sentence 제외한 모든 값 0으로 변경\n",
    "df['장애및병력'] = 0\n",
    "df['성과가족'] = 0\n",
    "df['사회적신분'] = 0\n",
    "df['출신'] = 0\n",
    "df['욕설'] = 0\n",
    "df['기타'] = 0\n",
    "df['언어감수성_X'] = 0\n",
    "df['언어감수성_O'] = 0"
   ]
  },
  {
   "cell_type": "markdown",
   "id": "b1ab2851",
   "metadata": {},
   "source": [
    "# 사전과 비교"
   ]
  },
  {
   "cell_type": "code",
   "execution_count": 1,
   "id": "bac67210",
   "metadata": {},
   "outputs": [],
   "source": [
    "#리스트 생성\n",
    "disab = ['기형', '결정장애', '긴팔', '간질', '간질병자', '귀머거리', '꺽다리', '깜깜이', '곱사등이', '곰배팔이', '곱추', '꼽추', '간질장애인', '깜깜이환자', '기형아', '농아자', '농아', '눈먼돈', '난쟁이', '난장이', '나병환자', '나병', '등신', '뗑깡', '땡깡', '땅딸보', '맹인', '문맹', '미친놈', '미친년', '미치광이', '미친사람', '머저리', '문둥이', '말더듬이', '문디', '문디자슥', '미숙아', '불구', '불구자', '백치', '바보 천치', '바보천치', '봉사', '벙어리', '반팔 티', '반팔티', '반팔', '백치미', '벙어리장갑', '반신불수', '배냇병신', '병신', '병크', '병맛', '병신크리', '반벙어리', '빙신', '발암캐', '발암케', '발연기', '발암이', '바보', '선택장애', '성불구', '성불구자', '소경', '사팔뜨기', '심신장애자', '사팔', '셀카고자', '수화', '외발자전거', '애자', '앉은뱅이', '애꾸눈', '애꾸눈이', '얼간이', '염병', '외팔이', '외눈박이', '육손이', '언청이', '언청샌님', '암걸', '에이즈환자', '연애고자', '장애우', '장애자', '장애인놀이', '저능아', '장님', '조막손', '절뚝이', '쩔뚝이', '자폐급', '자폐같은', '자폐같다는', '자폐같아', '자폐같다', '자폐같아요', '자폐같습니다', '자폐같다고', '자폐같이', '자폐같게', '자폐같고', '자폐같아서', '자폐같으니', '자폐같지만', '정병급', '정신지체', '정신분열증', '정신박약아', '정박아', '작다리', '절름발이', '절름발이정책', '정신병자', '절뚝발이', '찐따', '찐따같', '정신지체인', '정신박약자', '지체부자유자', '청맹과니', '치매', '청맹', '천치', '치매보험', '컴맹', '키다리', '패션고자', '폰맹', '폐질', '혹부리', '행려환자', '합죽이']\n",
    "family = ['가정부', '결손가족', '결손가정', '김 여사', '김여사', '고아원', '경력단절여성', '광부', '과부', '공부', '기생오라비', '기생오래비', '개그맨', '개그우먼', '가장', '게이같', '게이같음', '게이같냐', '게이같은', '게이같다는', '게이같아', '게이같다', '게이같아요', '게이같습니다', '게이같다고', '게이같이', '게이같게', '게이같고', '게이같아서', '게이같으니', '게이같지만', '게이스러운', '게이스럽다는', '게이스럽다', '게이스러워요', '게이스럽습니다', '게이스럽고', '게이스럽다고', '게이스럽게', '게이스러워서', '게이스러우니', '게이스럽지만', '개모차', '게이 느낌', '게이느낌', '김치녀', '관능미', '공통분모', '녹색 어머니회', '녹색 학부모회', '녹색어머니회', '녹색학부모회', '내조', '농부', '낙태죄', '낙태', '남녀평등', '남선생', '남학생', '남성미', '남성스러운', '남성스러워', '남성스럽다', '남성스러워요', '남성스럽습니다', '남성스럽다고', '남성스럽게', '남성스러워서', '남성스러우니', '남성스럽지만', '남성스럽고', '남자다운', '남자답다는', '남자답다', '남자다워요', '남자답습니다', '남자답다고', '남자답게', '남자다워서', '남자다우니', '남자답지만', '남자답고', '남중', '남고', '남고생', '남자미용사', '남자간호사', '남간호사', '내외', '냄저', '된장녀', '도태남', '동성연애', '똥꼬충', '레즈같은', '레즈같다', '레즈같다는', '레즈같아요', '레즈같습니다', '레즈같다고', '레즈같게', '레즈같이', '레즈같아서', '레즈같으니', '레즈같지만', '레즈같다고', '리벤지포르노', '리벤지야동', '레즈느낌', '레즈스러운', '레즈스러워', '레즈스럽다', '레즈스러워요', '레즈스럽습니다', '레즈스럽다고', '레즈스럽게', '레즈스러워서', '레즈스러우니', '레즈스럽지만', '레즈스럽고', '맘충', '미혼', '미혼모', '미혼부', '몰래카메라', '몰카', '몰카충', '맘스스테이션', '미망인', '맘카페', '변태성욕자', '부녀자', '보추', '보모', '바깥사람', '바깥양반', '바지사장', '버진로드', '배달맨', '배달부', '분모', '분자', '비출산', '부부', '베이글녀', '시댁', '스포츠맨십', '수유실', '사랑양반', '삼일한', '성욕받이', '소녀가장', '소년가장', '소년가장', '소녀소년가장', '소년소녀가장', '성애자', '유모', '애미', '애비', '외조', '외가', '외갓집', '외조부', '외삼촌', '외숙모', '외할머니', '외할아버지', '안사람', '유모차', '양성평등', '여중', '여중생', '여자고등', '여자중', '여자소방관', '여고', '얼굴마담', '어부', '아녀자', '아빠충', '여편네', '여가수', '여검사', '여배우', '여군', '여경', '여교수', '여자교수', '여직원', '여자직원', '여판사', '여자판사', '여선생', '여학생', '여대', '여간호사', '여성간호사', '여자간호사', '아내', '여경할당제', '여성미', '여성스', '여성스러운', '여성스러워', '여성스럽다', '여성스러워요', '여성스럽습니다', '여성스럽다고', '여성스럽게', '여성스러워서', '여성스러우니', '여성스럽지만', '여성스럽고', '여고생', '여자상사', '여의사', '여자다운', '여자다워', '여자다워요', '여자답다는', '여자답다', '여자답다고', '여자답습니다', '여자답고', '여자답게', '여자다워서', '여자다우니', '여자답지만', '여왕벌', '워킹맘', '여사장', '유모카', '우리집주인', '우체부', '여성가장', '여자가장', '여류화가 ', '여류작가', '여류시인', '여류조각가', '여류문인', '여류문학가', '여류소설가', '여류피아니스트', '여류선수', '여류무용가', '여류악단', '여류기사', '여류팀', '여류비행사', '우체부', '저출산', '집사람', '자궁', '자매결연', '접객부', '접대부', '처녀막', '처녀작', '처녀비행', '처녀항해', '처녀출판', '처녀출전', '처녀등반', '처녀림', '처녀생식', '처녀수', '처녀압밀곡선', '처녀연설', '처녀주행', '처녀지', '처녀출전', '친가', '친할머니', '친할아버지', '출산', '출산장려금', '출산휴가', '침모', '천생남자', '천생여자', '청소년가장', '천생남자', '천생여자', '처갓집', '쿠팡맨', '핑크게이', '편부', '편모', '편부모', '편모편부', '폐경', '하남자', '학부형', '학부모', '효자상품', '효자손', '혼전순결', '현모양처', '후레자식', '한남', '한녀', '호모']\n",
    "position = ['골린이', '개저씨', '가수', '간판장이', '간호원', '간호부', '간수', '고딩', '급식충', '꼰대', '고삐리', '노슬아치', '노인네', '늙은것', '늙은이', '늙다리', '나일리지', '노친네', '노인충', '낚린이', '노가다', '노무자', '노땅', '노예', '도장공', '등린이', '도공', '도배장이', '때밀이', '딴따라', '대딩', '땜장이', '떡검', '독거노인', '딸배', '라떼충', '무용수', '무당질', '무희', '목수', '목공', '봉급쟁이', '부엌데기', '부린이', '배린이', '불우 이웃', '비정규직', '복덕방', '백수', '삐끼', '서민', '석공', '수위아저씨', '수위 아저씨', '신호수', '식모살이', '식품접객업', '사생아', '손놈', '사회지도층', '상류층', '신용불량자', '옹기장이', '옹기장', '인쇄공', '요린이', '연금충', '양로원', '연소자', '월급쟁이', '아재', '애새끼', '인부', '이발쟁이', '운전수', '애늙은이', '아랫것', '잡급', '전관예우', '조무사', '좆문가', '중딩', '중고딩', '중삐리', '점쟁이', '좆소', '주린이', '잼민이', '장사꾼', '잡상인', '잡역부', '좆중고딩', '짭새', '청소부', '철밥통', '초딩', '초중딩', '초중고딩', '천민', '코린이', '틀니딱딱충', '틀니충', '틀딱충', '틀딱', '택시운전수', '특권층', '파출부', '폰팔이', '하층민', '하류층', '학식충', '환쟁이', '할매미', '헬린이', '할배', '할애비', '할매']\n",
    "ancestry = ['개상도', '개쌍디언', '개쌍도', '검둥이', '깜둥이', '껌둥이', '깽상도', '까보전', '견상도', '고담대구', '까만 새끼', '까만새끼', '감자도', '깽깽이', '경상디언', '감자바우', '낙향', '니그로', '다문화가정', '되놈', '단일민족', '똥양인', '똥트남', '똥남아', '라쿤광주', '마계인천', '문둥이', '멍청도', '미쿡', '미쿡인', '백의민족', '불법 체류', '불법체류', '불체자', '보리문둥이', '베트콩', '빵즈', '불법체류자', '북괴', '순혈', '상경', '살색', '서울뺀질이', '서울깍쟁이', '서울까투리', '시골스', '시골스러운', '시골스럽다', '시골스럽다는', '시골스러워요', '시골스럽습니다', '시골스럽다고', '시골스럽게', '시골스러워서', '시골스러우니', '시골스럽지만', '시골같은', '시골같다', '시골같다는', '시골같아요', '시골같습니다', '시골같다고', '시골같이', '시골같지만', '시골같다고', '수도권놈', '수도권놈들', '스시녀', '스시남', '순혈주의', '양놈', '오랑캐', '유색인종', '인천짠물', '연변총각', '외노자', '연변처녀', '외국인노동자', '외국인근로자', '외쿡', '외쿡인', '용병', '앰흑', '중놈', '조선족', '잡종', '잡혈', '재외자', '쭝꿔', '조센징', '전라디언', '절라도', '짱깨', '짱께', '짱개', '쪽발이', '쪽바리', '짠물', '짱꼴라', '칭챙총', '칭크', '친키', '충청도핫바지', '촌티', '촌놈', '촌띠기', '촌뜨기', '촌스', '촌스러운', '촌스럽다', '촌스럽다는', '촌스러워요', '촌스럽습니다', '촌스럽다고', '촌스럽게', '촌스러워서', '촌스러워', '촌스러우니', '촌스럽지만', '촌스럽고', '파퀴스탄', '홍어족', '화이트닝', '혼혈', '혼혈아', '흑형', '흑누나', '핫바지', '혼혈인']\n",
    "curse = ['간나', '개소리', '개쌉', '개씹', '개같', '개차반', '남미새', '년놈', '년놈들', '나쁜새끼', '남자새끼', '따까리', '돌대가리', '돌아이', '도태놈', '도태충', '미친새끼', '변태새끼', '박쥐짓', '반푼이', '빠가', '빠가사리', '빡대가리', '상폐녀', '상폐놈', '씨발적', '씨발', '시발', '시발적', '씹새끼', '씹덕미', '썅년', '씹덕질', '씹덕', '씹오타쿠', '쌉오타쿠', '쉣', '시발놈', '시발비용', '싸가지', '여미새', '악마새끼', '장뚜룹', '존맛', '존잼', '존똑', '졸귀', '졸잼', '졸잼각', '좆나', '존나', '존많', '좆같', '좆됐', '좆밥', '좆됨', '좆된', '존나게', '좆망', '좆되', '좆댐', '존버', '존귀', '존좋', '존맛시즌', '존잘', '지랄', '제정신아닌새끼', '좆까', '커플새끼', '핵존잼', '혈육새끼']\n",
    "etc = ['강제징용피해자', '견주', '길빵충', '가오충', '가능충', '국밥충', '노숙자', '도태충', '도둑고양이', '땡중', '마약김밥', '마약떡볶이', '마약국밥', '마약옥수수', '마약옥수수피자', '마약옥수수 피자', '마약토스트', '마약콘치즈', '마약계란장', '무뇌충', '몸뚱아리', '몸뚱어리', '몰카충', '무새', '문신충', '문신돼지', '무지성', '비주류', '뺀질이', '불편충', '빠돌이', '빠순이', '손지검', '손찌검', '선비충', '시비충', '스포충', '애플빠', '앱등이', '아가리어터', '아가리 다이어터', '왼쪽', '왼손', '오른손', '오른쪽', '왼발', '오른발', '얼빠', '유튜브충', '예민충', '인스타충', '예수쟁이', '오빠충', '와꾸', '애완동물', '애완', '애완견', '애완묘', '주류', '중질', '정품충', '정상인', '진지충', '재능충', '쩝쩝충', '컨셉충', '페미같', '페북충', '호갱', '흑우', '흡연충', '허세충', '꼬라지', '꼴페미', '까탈충', '쪼다', '한입충', '한입만충', '훈수충']"
   ]
  },
  {
   "cell_type": "code",
   "execution_count": 85,
   "id": "c89c84ed",
   "metadata": {},
   "outputs": [
    {
     "name": "stderr",
     "output_type": "stream",
     "text": [
      "C:\\Users\\thdal\\AppData\\Local\\Temp/ipykernel_31748/2926892676.py:5: SettingWithCopyWarning: \n",
      "A value is trying to be set on a copy of a slice from a DataFrame\n",
      "\n",
      "See the caveats in the documentation: https://pandas.pydata.org/pandas-docs/stable/user_guide/indexing.html#returning-a-view-versus-a-copy\n",
      "  df['장애및병력'][i] = 1\n"
     ]
    }
   ],
   "source": [
    "for i in range(len(df)):\n",
    "    temp = df['sentence'][i]\n",
    "    for j in range(len(disab)):\n",
    "        if disab[j] in temp:\n",
    "            df['장애및병력'][i] = 1"
   ]
  },
  {
   "cell_type": "code",
   "execution_count": 86,
   "id": "689b4d27",
   "metadata": {},
   "outputs": [
    {
     "name": "stderr",
     "output_type": "stream",
     "text": [
      "C:\\Users\\thdal\\AppData\\Local\\Temp/ipykernel_31748/968935879.py:5: SettingWithCopyWarning: \n",
      "A value is trying to be set on a copy of a slice from a DataFrame\n",
      "\n",
      "See the caveats in the documentation: https://pandas.pydata.org/pandas-docs/stable/user_guide/indexing.html#returning-a-view-versus-a-copy\n",
      "  df['성과가족'][i] = 1\n"
     ]
    }
   ],
   "source": [
    "for i in range(len(df)):\n",
    "    temp = df['sentence'][i]\n",
    "    for j in range(len(family)):\n",
    "        if family[j] in temp:\n",
    "            df['성과가족'][i] = 1"
   ]
  },
  {
   "cell_type": "code",
   "execution_count": 87,
   "id": "8f62209e",
   "metadata": {},
   "outputs": [
    {
     "name": "stderr",
     "output_type": "stream",
     "text": [
      "C:\\Users\\thdal\\AppData\\Local\\Temp/ipykernel_31748/2546301173.py:5: SettingWithCopyWarning: \n",
      "A value is trying to be set on a copy of a slice from a DataFrame\n",
      "\n",
      "See the caveats in the documentation: https://pandas.pydata.org/pandas-docs/stable/user_guide/indexing.html#returning-a-view-versus-a-copy\n",
      "  df['사회적신분'][i] = 1\n"
     ]
    }
   ],
   "source": [
    "for i in range(len(df)):\n",
    "    temp = df['sentence'][i]\n",
    "    for j in range(len(position)):\n",
    "        if position[j] in temp:\n",
    "            df['사회적신분'][i] = 1"
   ]
  },
  {
   "cell_type": "code",
   "execution_count": 88,
   "id": "0277533b",
   "metadata": {},
   "outputs": [
    {
     "name": "stderr",
     "output_type": "stream",
     "text": [
      "C:\\Users\\thdal\\AppData\\Local\\Temp/ipykernel_31748/1135134303.py:5: SettingWithCopyWarning: \n",
      "A value is trying to be set on a copy of a slice from a DataFrame\n",
      "\n",
      "See the caveats in the documentation: https://pandas.pydata.org/pandas-docs/stable/user_guide/indexing.html#returning-a-view-versus-a-copy\n",
      "  df['출신'][i] = 1\n"
     ]
    }
   ],
   "source": [
    "for i in range(len(df)):\n",
    "    temp = df['sentence'][i]\n",
    "    for j in range(len(ancestry)):\n",
    "        if ancestry[j] in temp:\n",
    "            df['출신'][i] = 1"
   ]
  },
  {
   "cell_type": "code",
   "execution_count": 89,
   "id": "165f655b",
   "metadata": {},
   "outputs": [
    {
     "name": "stderr",
     "output_type": "stream",
     "text": [
      "C:\\Users\\thdal\\AppData\\Local\\Temp/ipykernel_31748/1396137299.py:5: SettingWithCopyWarning: \n",
      "A value is trying to be set on a copy of a slice from a DataFrame\n",
      "\n",
      "See the caveats in the documentation: https://pandas.pydata.org/pandas-docs/stable/user_guide/indexing.html#returning-a-view-versus-a-copy\n",
      "  df['욕설'][i] = 1\n"
     ]
    }
   ],
   "source": [
    "for i in range(len(df)):\n",
    "    temp = df['sentence'][i]\n",
    "    for j in range(len(curse)):\n",
    "        if curse[j] in temp:\n",
    "            df['욕설'][i] = 1"
   ]
  },
  {
   "cell_type": "code",
   "execution_count": 90,
   "id": "09a9f201",
   "metadata": {},
   "outputs": [
    {
     "name": "stderr",
     "output_type": "stream",
     "text": [
      "C:\\Users\\thdal\\AppData\\Local\\Temp/ipykernel_31748/2624346284.py:5: SettingWithCopyWarning: \n",
      "A value is trying to be set on a copy of a slice from a DataFrame\n",
      "\n",
      "See the caveats in the documentation: https://pandas.pydata.org/pandas-docs/stable/user_guide/indexing.html#returning-a-view-versus-a-copy\n",
      "  df['기타'][i] = 1\n"
     ]
    }
   ],
   "source": [
    "for i in range(len(df)):\n",
    "    temp = df['sentence'][i]\n",
    "    for j in range(len(etc)):\n",
    "        if etc[j] in temp:\n",
    "            df['기타'][i] = 1"
   ]
  },
  {
   "cell_type": "code",
   "execution_count": 91,
   "id": "7983e5c3",
   "metadata": {},
   "outputs": [
    {
     "name": "stdout",
     "output_type": "stream",
     "text": [
      "0    155536\n",
      "1     15980\n",
      "Name: 장애및병력, dtype: int64\n",
      "0    92613\n",
      "1    78903\n",
      "Name: 성과가족, dtype: int64\n",
      "0    141566\n",
      "1     29950\n",
      "Name: 사회적신분, dtype: int64\n",
      "0    163466\n",
      "1      8050\n",
      "Name: 출신, dtype: int64\n",
      "0    143342\n",
      "1     28174\n",
      "Name: 욕설, dtype: int64\n",
      "0    161514\n",
      "1     10002\n",
      "Name: 기타, dtype: int64\n"
     ]
    }
   ],
   "source": [
    "print(df['장애및병력'].value_counts())\n",
    "print(df['성과가족'].value_counts())\n",
    "print(df['사회적신분'].value_counts())\n",
    "print(df['출신'].value_counts())\n",
    "print(df['욕설'].value_counts())\n",
    "print(df['기타'].value_counts())"
   ]
  },
  {
   "cell_type": "markdown",
   "id": "8c083ae1",
   "metadata": {},
   "source": [
    "# 불용어 사전과 비교"
   ]
  },
  {
   "cell_type": "code",
   "execution_count": 69,
   "id": "5a0709a3",
   "metadata": {},
   "outputs": [],
   "source": [
    "#리스트 생성\n",
    "stop_disab = ['간질간질', '간질환', '감염병', '갓난장이', '갓난쟁이', '계장님', '과장님', '관장님', '교육봉상', '구불구불', '국장님', '기부 봉사', '기형도', '꼬맹인', '나병희', '단기형', '단장님', '담수화', '대장님', '도무이 봉사', '동기형', '동맹인', '동성애자', '두봉사', '등신대', '등신의', '만성간질환', '명백치', '목 간질', '민원봉사', '반장님', '방문 봉사', '번역봉사', '번째보', '봉사 활동', '봉사 활성화', '봉사는', '봉사단', '봉사를', '봉사상', '봉사시간', '봉사의', '봉사인력', '봉사자', '봉사직', '봉사하', '봉사하는', '봉사해', '봉사활동', '부장님', '부정기형', '부처장님', '불구', '불구경', '불구덩이', '불구속', '불구하고', '불평등신분', '사장님', '사회봉사', '살리기형', '서바보다', '선교 봉사', '세기형', '세봉사', '센터장님', '소경주', '소수경제', '소장님', '속장님', '수리봉사', '수소경제', '수화물', '수화인', '시장님', '실장님', '알바보다', '알바보단', '알바보려고', '에도 불구', '역장님', '연맹인', '연탄 봉사', '영향을 미친 사람', '와상정신병신장투석', '용기형', '원장님', '의료봉사', '이간질', '이성애자', '일등신랑감', '일산화탄소경보기', '일손 봉사로', '자원봉사', '자원봉사자', '장기형', '전염병', '점장님', '중기형', '째보단', '차장님', '처장님', '청소경비시설관리', '청소경비원', '총장님', '탄소경영', '팀장님', '폐질환', '한봉사', '해명 불구', '현금백치기', '화염병', '환기형', '회장님']\n",
    "stop_family = ['가여고', '가여대', '가자궁', '가장 가벼', '가장 강', '가장 공', '가장 관', '가장 귀찮', '가장 극', '가장 기', '가장 기본', '가장 나', '가장 낫', '가장 낮', '가장 넓', '가장 논란', '가장 높', '가장 눈', '가장 당', '가장 대', '가장 디즈니', '가장 뜨', '가장 만', '가장 많', '가장 매력', '가장 먼', '가장 먼저', '가장 멋', '가장 문', '가장 문제', '가장 민', '가장 받', '가장 부', '가장 불', '가장 비', '가장 비싸게', '가장 비싼', '가장 빈번', '가장 빠', '가장 사랑', '가장 솔선', '가장 쉬', '가장 쉽', '가장 시급', '가장 심', '가장 아', '가장 안', '가장 앞', '가장 어려', '가장 어렵', '가장 어제', '가장 역', '가장 열', '가장 우', '가장 원하', '가장 유명', '가장 유일', '가장 이상', '가장 인기', '가장 인상', '가장 자신', '가장 자연', '가장 잘', '가장 저항', '가장 적', '가장 절', '가장 좋', '가장 주', '가장 중', '가장 직빵', '가장 최근', '가장 충', '가장 컸', '가장 크', '가장 큰', '가장 합', '가장 핫', '가장 핵', '가장 핵심', '가장 확', '가장 활', '가장 효', '가장 힘', '가장한', '가장해', '가장행렬', '개 내외', '개내외', '경남고', '경남학생', '고분자', '곡내외', '공공부', '공공부문', '공공부서', '과부터', '과부하', '과외가', '관광부', '광부터', '교과부', '국내외', '권한남용', '긁어부', '기 가장', '기여대', '깎아내', '남고속', '남고을', '남중국', '남중국해', '남중권', '내외 모든', '내외곽', '내외관', '내외국인', '내외로', '내외부', '내외신', '내외에서', '내외의 경제', '내외장', '내외적', '녹아내', '늦어부', '닦아내', '담아내', '답찾아내', '대 내외', '대내외', '동성애자', '두부부침', '러 가장', '마이애미', '막아내', '만 여대', '만여대', '먹어부', '명 남고', '명 내외', '명내외', '몰아내', '무성애자', '문광부', '문화체육관광부', '미디어부문', '미아내', '받아내', '배달부탁', '백여대', '범성애자', '베트남학생', '보내자궁', '보내조', '보모델', '복분자', '볶아내', '부부장', '부부처', '부여군', '분모자', '분자기', '분자변형', '분자서', '분자실험', '뽑아내', '사내외', '살아내', '소아내', '소아성애자', '소외가', '솎아내', '솓아내', '시골 처녀', '시골처녀', '신호전달분자', '실내외', '실내조경', '실외가', '십여대', '쏟아내', '안과부', '안남고', '안내조회', '알아내', '야외가', '양성애자', '어부러', '어부바', '어부터', '에 남고', '에어부산', '여대상', '예외가', '예외조', '예외조항', '와편모루', '원내외', '이게 가장', '이성애자', '잊어부', '자아내', '잘자궁', '잠여대', '잡아내', '장내외', '전남고', '정부부처', '제외가', '쫓아내', '참아내', '참여가수', '참여의사', '참여중', '찾아내', '천생연분', '천여대', '청과부', '최대 여대', '취침모', '투여군', '투여중', '팀 내외', '파우친가', '편모음', '편부터', '하여고', '하자궁', '하천생태계', '한남 구역', '한남구역', '한남대', '한남대교', '한남더힐', '한남동', '한남매', '한남성', '한남에', '한남오거리', '한남자', '한녀석', '해여대', '해외가', '호남고', '호모사피엔스', '후보추', '후보추천']\n",
    "stop_position = ['가수스', '가수익', '가수입', '가수준', '경상경비', '국가수', '목공방', '목공사', '목공예', '목공풀', '목수서울', '목수술', '보도공사', '본인부', '본인부담', '부가수익', '비상경영', '석수역', '수도공급', '시간수업', '신인부', '아재미', '아재밌', '아재수', '연금충당', '의석수', '이노무자식', '인부분', '인부터', '장애인부모', '좌석수', '주가수', '중간수역', '증가수', '철도공사', '청소부터', '최연소자', '추가수', '토목공', '품목수', '확인부']\n",
    "stop_ancestry = ['가용병상', '강촌스', '공용병', '깽깽이풀', '덕천민', '미미쿡', '비상경', '상경계', '상경투쟁', '수감자도', '수상경력', '아니그로니까', '의견상도', '인천민', '잡종재산', '잡종지', '전용병상', '조용병', '죽상경화', '증상경', '짠물 수비', '짠물 투구', '짠물수비', '짠물투구', '채용병', '충북괴산', '파니그로', '평촌스', '화상경마장']\n",
    "stop_curse = ['시간나', '시발점', '아빠가', '엄빠가', '에 간나', '오빠가', '와꾸나', '판타지랄까']\n",
    "stop_etc = ['견주어', '기타주류', '들무새', '롯데주류', '매무새', '안주류', '앵무새', '의견주', '정상인가', '정상인데', '정상인디', '조학주류승룡', '주류 가격', '주류 바이어', '주류 백화점', '주류 종목', '주류 판매', '주류담배', '주류백화점', '주류비', '주류업계', '주류업체', '주류판매', '중질량', '중질유', '총무새마을']"
   ]
  },
  {
   "cell_type": "code",
   "execution_count": 70,
   "id": "d5a130ef",
   "metadata": {},
   "outputs": [
    {
     "name": "stderr",
     "output_type": "stream",
     "text": [
      "C:\\Users\\thdal\\AppData\\Local\\Temp/ipykernel_31748/4244723379.py:5: SettingWithCopyWarning: \n",
      "A value is trying to be set on a copy of a slice from a DataFrame\n",
      "\n",
      "See the caveats in the documentation: https://pandas.pydata.org/pandas-docs/stable/user_guide/indexing.html#returning-a-view-versus-a-copy\n",
      "  df['장애및병력'][i] = 0\n"
     ]
    }
   ],
   "source": [
    "for i in range(len(df)):\n",
    "    temp = df['sentence'][i]\n",
    "    for j in range(len(stop_disab)):\n",
    "        if stop_disab[j] in temp:\n",
    "            df['장애및병력'][i] = 0"
   ]
  },
  {
   "cell_type": "code",
   "execution_count": null,
   "id": "061709c9",
   "metadata": {},
   "outputs": [],
   "source": [
    "for i in range(len(df)):\n",
    "    temp = df['sentence'][i]\n",
    "    for k in range(len())\n",
    "    \n",
    "    \n",
    "    for j in range(len(stop_family)):\n",
    "        if stop_family[j] in temp:\n",
    "            df['성과가족'][i] = 0"
   ]
  },
  {
   "cell_type": "code",
   "execution_count": 71,
   "id": "d6550834",
   "metadata": {},
   "outputs": [
    {
     "name": "stderr",
     "output_type": "stream",
     "text": [
      "C:\\Users\\thdal\\AppData\\Local\\Temp/ipykernel_31748/3181768263.py:5: SettingWithCopyWarning: \n",
      "A value is trying to be set on a copy of a slice from a DataFrame\n",
      "\n",
      "See the caveats in the documentation: https://pandas.pydata.org/pandas-docs/stable/user_guide/indexing.html#returning-a-view-versus-a-copy\n",
      "  df['성과가족'][i] = 0\n"
     ]
    }
   ],
   "source": [
    "for i in range(len(df)):\n",
    "    temp = df['sentence'][i]\n",
    "    for j in range(len(stop_family)):\n",
    "        if stop_family[j] in temp:\n",
    "            df['성과가족'][i] = 0"
   ]
  },
  {
   "cell_type": "code",
   "execution_count": 72,
   "id": "f933a6e9",
   "metadata": {},
   "outputs": [
    {
     "name": "stderr",
     "output_type": "stream",
     "text": [
      "C:\\Users\\thdal\\AppData\\Local\\Temp/ipykernel_31748/300460974.py:5: SettingWithCopyWarning: \n",
      "A value is trying to be set on a copy of a slice from a DataFrame\n",
      "\n",
      "See the caveats in the documentation: https://pandas.pydata.org/pandas-docs/stable/user_guide/indexing.html#returning-a-view-versus-a-copy\n",
      "  df['사회적신분'][i] = 0\n"
     ]
    }
   ],
   "source": [
    "for i in range(len(df)):\n",
    "    temp = df['sentence'][i]\n",
    "    for j in range(len(stop_position)):\n",
    "        if stop_position[j] in temp:\n",
    "            df['사회적신분'][i] = 0"
   ]
  },
  {
   "cell_type": "code",
   "execution_count": 73,
   "id": "65214fa8",
   "metadata": {},
   "outputs": [
    {
     "name": "stderr",
     "output_type": "stream",
     "text": [
      "C:\\Users\\thdal\\AppData\\Local\\Temp/ipykernel_31748/2558643929.py:5: SettingWithCopyWarning: \n",
      "A value is trying to be set on a copy of a slice from a DataFrame\n",
      "\n",
      "See the caveats in the documentation: https://pandas.pydata.org/pandas-docs/stable/user_guide/indexing.html#returning-a-view-versus-a-copy\n",
      "  df['출신'][i] = 0\n"
     ]
    }
   ],
   "source": [
    "for i in range(len(df)):\n",
    "    temp = df['sentence'][i]\n",
    "    for j in range(len(stop_ancestry)):\n",
    "        if stop_ancestry[j] in temp:\n",
    "            df['출신'][i] = 0"
   ]
  },
  {
   "cell_type": "code",
   "execution_count": 74,
   "id": "1fbb16cc",
   "metadata": {},
   "outputs": [
    {
     "name": "stderr",
     "output_type": "stream",
     "text": [
      "C:\\Users\\thdal\\AppData\\Local\\Temp/ipykernel_31748/3341109013.py:5: SettingWithCopyWarning: \n",
      "A value is trying to be set on a copy of a slice from a DataFrame\n",
      "\n",
      "See the caveats in the documentation: https://pandas.pydata.org/pandas-docs/stable/user_guide/indexing.html#returning-a-view-versus-a-copy\n",
      "  df['욕설'][i] = 0\n"
     ]
    }
   ],
   "source": [
    "for i in range(len(df)):\n",
    "    temp = df['sentence'][i]\n",
    "    for j in range(len(stop_curse)):\n",
    "        if stop_curse[j] in temp:\n",
    "            df['욕설'][i] = 0"
   ]
  },
  {
   "cell_type": "code",
   "execution_count": 75,
   "id": "b5037279",
   "metadata": {},
   "outputs": [
    {
     "name": "stderr",
     "output_type": "stream",
     "text": [
      "C:\\Users\\thdal\\AppData\\Local\\Temp/ipykernel_31748/172321713.py:5: SettingWithCopyWarning: \n",
      "A value is trying to be set on a copy of a slice from a DataFrame\n",
      "\n",
      "See the caveats in the documentation: https://pandas.pydata.org/pandas-docs/stable/user_guide/indexing.html#returning-a-view-versus-a-copy\n",
      "  df['기타'][i] = 0\n"
     ]
    }
   ],
   "source": [
    "for i in range(len(df)):\n",
    "    temp = df['sentence'][i]\n",
    "    for j in range(len(stop_etc)):\n",
    "        if stop_etc[j] in temp:\n",
    "            df['기타'][i] = 0"
   ]
  },
  {
   "cell_type": "code",
   "execution_count": 76,
   "id": "1d8101c9",
   "metadata": {},
   "outputs": [
    {
     "name": "stdout",
     "output_type": "stream",
     "text": [
      "0    156764\n",
      "1     14752\n",
      "Name: 장애및병력, dtype: int64\n",
      "0    94661\n",
      "1    76855\n",
      "Name: 성과가족, dtype: int64\n",
      "0    141776\n",
      "1     29740\n",
      "Name: 사회적신분, dtype: int64\n",
      "0    163555\n",
      "1      7961\n",
      "Name: 출신, dtype: int64\n",
      "0    143766\n",
      "1     27750\n",
      "Name: 욕설, dtype: int64\n",
      "0    161600\n",
      "1      9916\n",
      "Name: 기타, dtype: int64\n"
     ]
    }
   ],
   "source": [
    "print(df['장애및병력'].value_counts())\n",
    "print(df['성과가족'].value_counts())\n",
    "print(df['사회적신분'].value_counts())\n",
    "print(df['출신'].value_counts())\n",
    "print(df['욕설'].value_counts())\n",
    "print(df['기타'].value_counts())"
   ]
  },
  {
   "cell_type": "markdown",
   "id": "e4584cc7",
   "metadata": {},
   "source": [
    "# 언어감수성 라벨링"
   ]
  },
  {
   "cell_type": "code",
   "execution_count": 38,
   "id": "b1416df5",
   "metadata": {},
   "outputs": [
    {
     "name": "stderr",
     "output_type": "stream",
     "text": [
      "C:\\Users\\thdal\\AppData\\Local\\Temp/ipykernel_31748/3617240402.py:4: SettingWithCopyWarning: \n",
      "A value is trying to be set on a copy of a slice from a DataFrame\n",
      "\n",
      "See the caveats in the documentation: https://pandas.pydata.org/pandas-docs/stable/user_guide/indexing.html#returning-a-view-versus-a-copy\n",
      "  df['언어감수성_X'][i] = 1\n",
      "C:\\Users\\thdal\\AppData\\Local\\Temp/ipykernel_31748/3617240402.py:6: SettingWithCopyWarning: \n",
      "A value is trying to be set on a copy of a slice from a DataFrame\n",
      "\n",
      "See the caveats in the documentation: https://pandas.pydata.org/pandas-docs/stable/user_guide/indexing.html#returning-a-view-versus-a-copy\n",
      "  df['언어감수성_O'][i] = 1\n"
     ]
    }
   ],
   "source": [
    "#카테고리 중 하나라도 1이 있으면 언어감수성_X는 1, 없으면 언어감수성_O는 1\n",
    "for i in range(len(df)):\n",
    "    if (df['장애및병력'][i] == 1) | (df['성과가족'][i] == 1) | (df['사회적신분'][i] == 1) | (df['출신'][i] == 1) | (df['욕설'][i] == 1) | (df['기타'][i] == 1) == True:\n",
    "        df['언어감수성_X'][i] = 1\n",
    "    else:\n",
    "        df['언어감수성_O'][i] = 1"
   ]
  },
  {
   "cell_type": "code",
   "execution_count": 39,
   "id": "88750a8e",
   "metadata": {},
   "outputs": [
    {
     "data": {
      "text/plain": [
       "1    163597\n",
       "0      7919\n",
       "Name: 언어감수성_X, dtype: int64"
      ]
     },
     "execution_count": 39,
     "metadata": {},
     "output_type": "execute_result"
    }
   ],
   "source": [
    "df['언어감수성_X'].value_counts()"
   ]
  },
  {
   "cell_type": "code",
   "execution_count": 44,
   "id": "54925ba9",
   "metadata": {},
   "outputs": [
    {
     "data": {
      "text/html": [
       "<div>\n",
       "<style scoped>\n",
       "    .dataframe tbody tr th:only-of-type {\n",
       "        vertical-align: middle;\n",
       "    }\n",
       "\n",
       "    .dataframe tbody tr th {\n",
       "        vertical-align: top;\n",
       "    }\n",
       "\n",
       "    .dataframe thead th {\n",
       "        text-align: right;\n",
       "    }\n",
       "</style>\n",
       "<table border=\"1\" class=\"dataframe\">\n",
       "  <thead>\n",
       "    <tr style=\"text-align: right;\">\n",
       "      <th></th>\n",
       "      <th>sentence</th>\n",
       "      <th>장애및병력</th>\n",
       "      <th>성과가족</th>\n",
       "      <th>사회적신분</th>\n",
       "      <th>출신</th>\n",
       "      <th>욕설</th>\n",
       "      <th>기타</th>\n",
       "      <th>언어감수성_X</th>\n",
       "      <th>언어감수성_O</th>\n",
       "    </tr>\n",
       "  </thead>\n",
       "  <tbody>\n",
       "    <tr>\n",
       "      <th>43002</th>\n",
       "      <td>컴공 생이 자바 대신 차트 공부한다</td>\n",
       "      <td>0</td>\n",
       "      <td>1</td>\n",
       "      <td>0</td>\n",
       "      <td>0</td>\n",
       "      <td>0</td>\n",
       "      <td>0</td>\n",
       "      <td>1</td>\n",
       "      <td>0</td>\n",
       "    </tr>\n",
       "    <tr>\n",
       "      <th>43003</th>\n",
       "      <td>짱웃겨  맞아 엄청 어려워글고 애초에 공부를 안하게돼</td>\n",
       "      <td>0</td>\n",
       "      <td>1</td>\n",
       "      <td>0</td>\n",
       "      <td>0</td>\n",
       "      <td>0</td>\n",
       "      <td>0</td>\n",
       "      <td>1</td>\n",
       "      <td>0</td>\n",
       "    </tr>\n",
       "    <tr>\n",
       "      <th>43004</th>\n",
       "      <td>공부 차시도 끝내고</td>\n",
       "      <td>0</td>\n",
       "      <td>1</td>\n",
       "      <td>0</td>\n",
       "      <td>0</td>\n",
       "      <td>0</td>\n",
       "      <td>0</td>\n",
       "      <td>1</td>\n",
       "      <td>0</td>\n",
       "    </tr>\n",
       "    <tr>\n",
       "      <th>43005</th>\n",
       "      <td>또 공부하려거든 으로 시작하는것보다</td>\n",
       "      <td>0</td>\n",
       "      <td>1</td>\n",
       "      <td>0</td>\n",
       "      <td>0</td>\n",
       "      <td>0</td>\n",
       "      <td>0</td>\n",
       "      <td>1</td>\n",
       "      <td>0</td>\n",
       "    </tr>\n",
       "    <tr>\n",
       "      <th>43006</th>\n",
       "      <td>이름이 그날도 공부해</td>\n",
       "      <td>0</td>\n",
       "      <td>1</td>\n",
       "      <td>0</td>\n",
       "      <td>0</td>\n",
       "      <td>0</td>\n",
       "      <td>0</td>\n",
       "      <td>1</td>\n",
       "      <td>0</td>\n",
       "    </tr>\n",
       "    <tr>\n",
       "      <th>43007</th>\n",
       "      <td>나는 시까지 공부하구</td>\n",
       "      <td>0</td>\n",
       "      <td>1</td>\n",
       "      <td>0</td>\n",
       "      <td>0</td>\n",
       "      <td>0</td>\n",
       "      <td>0</td>\n",
       "      <td>1</td>\n",
       "      <td>0</td>\n",
       "    </tr>\n",
       "  </tbody>\n",
       "</table>\n",
       "</div>"
      ],
      "text/plain": [
       "                            sentence  장애및병력  성과가족  사회적신분  출신  욕설  기타  언어감수성_X  \\\n",
       "43002            컴공 생이 자바 대신 차트 공부한다      0     1      0   0   0   0        1   \n",
       "43003  짱웃겨  맞아 엄청 어려워글고 애초에 공부를 안하게돼      0     1      0   0   0   0        1   \n",
       "43004                     공부 차시도 끝내고      0     1      0   0   0   0        1   \n",
       "43005            또 공부하려거든 으로 시작하는것보다      0     1      0   0   0   0        1   \n",
       "43006                    이름이 그날도 공부해      0     1      0   0   0   0        1   \n",
       "43007                    나는 시까지 공부하구      0     1      0   0   0   0        1   \n",
       "\n",
       "       언어감수성_O  \n",
       "43002        0  \n",
       "43003        0  \n",
       "43004        0  \n",
       "43005        0  \n",
       "43006        0  \n",
       "43007        0  "
      ]
     },
     "execution_count": 44,
     "metadata": {},
     "output_type": "execute_result"
    }
   ],
   "source": [
    "df[4000:4010]"
   ]
  },
  {
   "cell_type": "code",
   "execution_count": 3,
   "id": "73704904",
   "metadata": {},
   "outputs": [
    {
     "name": "stdout",
     "output_type": "stream",
     "text": [
      "137\n",
      "304\n",
      "117\n",
      "129\n",
      "72\n",
      "79\n",
      "838\n"
     ]
    }
   ],
   "source": [
    "print(len(disab))\n",
    "print(len(family))\n",
    "print(len(position))\n",
    "print(len(ancestry))\n",
    "print(len(curse))\n",
    "print(len(etc))\n",
    "\n",
    "print(len(disab) + len(family) + len(position) + len(ancestry) + len(curse) + len(etc))"
   ]
  },
  {
   "cell_type": "code",
   "execution_count": 45,
   "id": "4770167a",
   "metadata": {},
   "outputs": [],
   "source": [
    "df.to_excel('wrong_sentiment_label.xlsx', encoding='CP949')"
   ]
  }
 ],
 "metadata": {
  "kernelspec": {
   "display_name": "Python 3 (ipykernel)",
   "language": "python",
   "name": "python3"
  },
  "language_info": {
   "codemirror_mode": {
    "name": "ipython",
    "version": 3
   },
   "file_extension": ".py",
   "mimetype": "text/x-python",
   "name": "python",
   "nbconvert_exporter": "python",
   "pygments_lexer": "ipython3",
   "version": "3.7.11"
  }
 },
 "nbformat": 4,
 "nbformat_minor": 5
}
